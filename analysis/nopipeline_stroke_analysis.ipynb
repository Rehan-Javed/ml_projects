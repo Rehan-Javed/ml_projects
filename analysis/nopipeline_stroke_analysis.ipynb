{
 "cells": [
  {
   "cell_type": "code",
   "execution_count": 1,
   "metadata": {},
   "outputs": [],
   "source": [
    "import pandas as pd\n",
    "import seaborn as sns\n",
    "import matplotlib.pyplot as plt\n",
    "import numpy as np\n",
    "import matplotlib.pyplot as plt\n",
    "%matplotlib inline\n"
   ]
  },
  {
   "cell_type": "code",
   "execution_count": 2,
   "metadata": {},
   "outputs": [],
   "source": [
    "df = pd.read_csv('D:\\jupyter\\projects\\data\\healthcare-dataset-stroke-data.csv')"
   ]
  },
  {
   "cell_type": "code",
   "execution_count": 3,
   "metadata": {},
   "outputs": [
    {
     "data": {
      "text/html": [
       "<div>\n",
       "<style scoped>\n",
       "    .dataframe tbody tr th:only-of-type {\n",
       "        vertical-align: middle;\n",
       "    }\n",
       "\n",
       "    .dataframe tbody tr th {\n",
       "        vertical-align: top;\n",
       "    }\n",
       "\n",
       "    .dataframe thead th {\n",
       "        text-align: right;\n",
       "    }\n",
       "</style>\n",
       "<table border=\"1\" class=\"dataframe\">\n",
       "  <thead>\n",
       "    <tr style=\"text-align: right;\">\n",
       "      <th></th>\n",
       "      <th>gender</th>\n",
       "      <th>age</th>\n",
       "      <th>hypertension</th>\n",
       "      <th>heart_disease</th>\n",
       "      <th>ever_married</th>\n",
       "      <th>work_type</th>\n",
       "      <th>Residence_type</th>\n",
       "      <th>avg_glucose_level</th>\n",
       "      <th>bmi</th>\n",
       "      <th>smoking_status</th>\n",
       "      <th>stroke</th>\n",
       "    </tr>\n",
       "  </thead>\n",
       "  <tbody>\n",
       "    <tr>\n",
       "      <th>0</th>\n",
       "      <td>Male</td>\n",
       "      <td>67.0</td>\n",
       "      <td>0</td>\n",
       "      <td>1</td>\n",
       "      <td>Yes</td>\n",
       "      <td>Private</td>\n",
       "      <td>Urban</td>\n",
       "      <td>228.69</td>\n",
       "      <td>36.6</td>\n",
       "      <td>formerly smoked</td>\n",
       "      <td>1</td>\n",
       "    </tr>\n",
       "    <tr>\n",
       "      <th>1</th>\n",
       "      <td>Female</td>\n",
       "      <td>61.0</td>\n",
       "      <td>0</td>\n",
       "      <td>0</td>\n",
       "      <td>Yes</td>\n",
       "      <td>Self-employed</td>\n",
       "      <td>Rural</td>\n",
       "      <td>202.21</td>\n",
       "      <td>NaN</td>\n",
       "      <td>never smoked</td>\n",
       "      <td>1</td>\n",
       "    </tr>\n",
       "    <tr>\n",
       "      <th>2</th>\n",
       "      <td>Male</td>\n",
       "      <td>80.0</td>\n",
       "      <td>0</td>\n",
       "      <td>1</td>\n",
       "      <td>Yes</td>\n",
       "      <td>Private</td>\n",
       "      <td>Rural</td>\n",
       "      <td>105.92</td>\n",
       "      <td>32.5</td>\n",
       "      <td>never smoked</td>\n",
       "      <td>1</td>\n",
       "    </tr>\n",
       "    <tr>\n",
       "      <th>3</th>\n",
       "      <td>Female</td>\n",
       "      <td>49.0</td>\n",
       "      <td>0</td>\n",
       "      <td>0</td>\n",
       "      <td>Yes</td>\n",
       "      <td>Private</td>\n",
       "      <td>Urban</td>\n",
       "      <td>171.23</td>\n",
       "      <td>34.4</td>\n",
       "      <td>smokes</td>\n",
       "      <td>1</td>\n",
       "    </tr>\n",
       "    <tr>\n",
       "      <th>4</th>\n",
       "      <td>Female</td>\n",
       "      <td>79.0</td>\n",
       "      <td>1</td>\n",
       "      <td>0</td>\n",
       "      <td>Yes</td>\n",
       "      <td>Self-employed</td>\n",
       "      <td>Rural</td>\n",
       "      <td>174.12</td>\n",
       "      <td>24.0</td>\n",
       "      <td>never smoked</td>\n",
       "      <td>1</td>\n",
       "    </tr>\n",
       "  </tbody>\n",
       "</table>\n",
       "</div>"
      ],
      "text/plain": [
       "   gender   age  hypertension  heart_disease ever_married      work_type  \\\n",
       "0    Male  67.0             0              1          Yes        Private   \n",
       "1  Female  61.0             0              0          Yes  Self-employed   \n",
       "2    Male  80.0             0              1          Yes        Private   \n",
       "3  Female  49.0             0              0          Yes        Private   \n",
       "4  Female  79.0             1              0          Yes  Self-employed   \n",
       "\n",
       "  Residence_type  avg_glucose_level   bmi   smoking_status  stroke  \n",
       "0          Urban             228.69  36.6  formerly smoked       1  \n",
       "1          Rural             202.21   NaN     never smoked       1  \n",
       "2          Rural             105.92  32.5     never smoked       1  \n",
       "3          Urban             171.23  34.4           smokes       1  \n",
       "4          Rural             174.12  24.0     never smoked       1  "
      ]
     },
     "execution_count": 3,
     "metadata": {},
     "output_type": "execute_result"
    }
   ],
   "source": [
    "df.head()"
   ]
  },
  {
   "cell_type": "markdown",
   "metadata": {},
   "source": [
    "---"
   ]
  },
  {
   "cell_type": "markdown",
   "metadata": {},
   "source": [
    "#### Describe the numerical data ?"
   ]
  },
  {
   "cell_type": "code",
   "execution_count": 4,
   "metadata": {},
   "outputs": [
    {
     "data": {
      "text/html": [
       "<div>\n",
       "<style scoped>\n",
       "    .dataframe tbody tr th:only-of-type {\n",
       "        vertical-align: middle;\n",
       "    }\n",
       "\n",
       "    .dataframe tbody tr th {\n",
       "        vertical-align: top;\n",
       "    }\n",
       "\n",
       "    .dataframe thead th {\n",
       "        text-align: right;\n",
       "    }\n",
       "</style>\n",
       "<table border=\"1\" class=\"dataframe\">\n",
       "  <thead>\n",
       "    <tr style=\"text-align: right;\">\n",
       "      <th></th>\n",
       "      <th>age</th>\n",
       "      <th>hypertension</th>\n",
       "      <th>heart_disease</th>\n",
       "      <th>avg_glucose_level</th>\n",
       "      <th>bmi</th>\n",
       "      <th>stroke</th>\n",
       "    </tr>\n",
       "  </thead>\n",
       "  <tbody>\n",
       "    <tr>\n",
       "      <th>count</th>\n",
       "      <td>5109.000000</td>\n",
       "      <td>5109.000000</td>\n",
       "      <td>5109.000000</td>\n",
       "      <td>5109.000000</td>\n",
       "      <td>4908.00000</td>\n",
       "      <td>5109.000000</td>\n",
       "    </tr>\n",
       "    <tr>\n",
       "      <th>mean</th>\n",
       "      <td>43.229986</td>\n",
       "      <td>0.097475</td>\n",
       "      <td>0.054022</td>\n",
       "      <td>106.140399</td>\n",
       "      <td>28.89456</td>\n",
       "      <td>0.048738</td>\n",
       "    </tr>\n",
       "    <tr>\n",
       "      <th>std</th>\n",
       "      <td>22.613575</td>\n",
       "      <td>0.296633</td>\n",
       "      <td>0.226084</td>\n",
       "      <td>45.285004</td>\n",
       "      <td>7.85432</td>\n",
       "      <td>0.215340</td>\n",
       "    </tr>\n",
       "    <tr>\n",
       "      <th>min</th>\n",
       "      <td>0.080000</td>\n",
       "      <td>0.000000</td>\n",
       "      <td>0.000000</td>\n",
       "      <td>55.120000</td>\n",
       "      <td>10.30000</td>\n",
       "      <td>0.000000</td>\n",
       "    </tr>\n",
       "    <tr>\n",
       "      <th>25%</th>\n",
       "      <td>25.000000</td>\n",
       "      <td>0.000000</td>\n",
       "      <td>0.000000</td>\n",
       "      <td>77.240000</td>\n",
       "      <td>23.50000</td>\n",
       "      <td>0.000000</td>\n",
       "    </tr>\n",
       "    <tr>\n",
       "      <th>50%</th>\n",
       "      <td>45.000000</td>\n",
       "      <td>0.000000</td>\n",
       "      <td>0.000000</td>\n",
       "      <td>91.880000</td>\n",
       "      <td>28.10000</td>\n",
       "      <td>0.000000</td>\n",
       "    </tr>\n",
       "    <tr>\n",
       "      <th>75%</th>\n",
       "      <td>61.000000</td>\n",
       "      <td>0.000000</td>\n",
       "      <td>0.000000</td>\n",
       "      <td>114.090000</td>\n",
       "      <td>33.10000</td>\n",
       "      <td>0.000000</td>\n",
       "    </tr>\n",
       "    <tr>\n",
       "      <th>max</th>\n",
       "      <td>82.000000</td>\n",
       "      <td>1.000000</td>\n",
       "      <td>1.000000</td>\n",
       "      <td>271.740000</td>\n",
       "      <td>97.60000</td>\n",
       "      <td>1.000000</td>\n",
       "    </tr>\n",
       "  </tbody>\n",
       "</table>\n",
       "</div>"
      ],
      "text/plain": [
       "               age  hypertension  heart_disease  avg_glucose_level  \\\n",
       "count  5109.000000   5109.000000    5109.000000        5109.000000   \n",
       "mean     43.229986      0.097475       0.054022         106.140399   \n",
       "std      22.613575      0.296633       0.226084          45.285004   \n",
       "min       0.080000      0.000000       0.000000          55.120000   \n",
       "25%      25.000000      0.000000       0.000000          77.240000   \n",
       "50%      45.000000      0.000000       0.000000          91.880000   \n",
       "75%      61.000000      0.000000       0.000000         114.090000   \n",
       "max      82.000000      1.000000       1.000000         271.740000   \n",
       "\n",
       "              bmi       stroke  \n",
       "count  4908.00000  5109.000000  \n",
       "mean     28.89456     0.048738  \n",
       "std       7.85432     0.215340  \n",
       "min      10.30000     0.000000  \n",
       "25%      23.50000     0.000000  \n",
       "50%      28.10000     0.000000  \n",
       "75%      33.10000     0.000000  \n",
       "max      97.60000     1.000000  "
      ]
     },
     "execution_count": 4,
     "metadata": {},
     "output_type": "execute_result"
    }
   ],
   "source": [
    "df.describe()"
   ]
  },
  {
   "cell_type": "markdown",
   "metadata": {},
   "source": [
    "#### What are the unique values are in each categorical column (alphabets)?"
   ]
  },
  {
   "cell_type": "code",
   "execution_count": 5,
   "metadata": {},
   "outputs": [
    {
     "name": "stdout",
     "output_type": "stream",
     "text": [
      "['Male' 'Female']\n",
      "['Yes' 'No']\n",
      "['Private' 'Self-employed' 'Govt_job' 'children' 'Never_worked']\n",
      "['Urban' 'Rural']\n",
      "['formerly smoked' 'never smoked' 'smokes' 'Unknown']\n",
      "[1 0]\n"
     ]
    }
   ],
   "source": [
    "def unique(df,a,b,c,d,e,f):\n",
    "        print(df[a].unique())\n",
    "        print(df[b].unique())\n",
    "        print(df[c].unique())\n",
    "        print(df[d].unique())\n",
    "        print(df[e].unique())\n",
    "        print(df[f].unique())\n",
    "        \n",
    "        \n",
    "unique(df,'gender','ever_married','work_type','Residence_type','smoking_status','stroke')\n",
    "    \n",
    "    "
   ]
  },
  {
   "cell_type": "markdown",
   "metadata": {},
   "source": [
    "### Q: How many missing values are there in each column ?"
   ]
  },
  {
   "cell_type": "code",
   "execution_count": 6,
   "metadata": {},
   "outputs": [],
   "source": [
    "# df.isna().sum"
   ]
  },
  {
   "cell_type": "code",
   "execution_count": 7,
   "metadata": {},
   "outputs": [
    {
     "name": "stdout",
     "output_type": "stream",
     "text": [
      "gender                 0\n",
      "age                    0\n",
      "hypertension           0\n",
      "heart_disease          0\n",
      "ever_married           0\n",
      "work_type              0\n",
      "Residence_type         0\n",
      "avg_glucose_level      0\n",
      "bmi                  201\n",
      "smoking_status         0\n",
      "stroke                 0\n",
      "dtype: int64\n"
     ]
    }
   ],
   "source": [
    "print(df.isnull().sum())"
   ]
  },
  {
   "cell_type": "markdown",
   "metadata": {},
   "source": [
    "#### Fill missing bmi values"
   ]
  },
  {
   "cell_type": "code",
   "execution_count": 8,
   "metadata": {},
   "outputs": [],
   "source": [
    "median_bmi = df[\"bmi\"].median()\n",
    "df['bmi'].fillna(median_bmi, inplace=True)"
   ]
  },
  {
   "cell_type": "markdown",
   "metadata": {},
   "source": [
    "### Q: How many positive values of stroke are there ?"
   ]
  },
  {
   "cell_type": "code",
   "execution_count": 9,
   "metadata": {},
   "outputs": [
    {
     "data": {
      "text/plain": [
       "0    4860\n",
       "1     249\n",
       "Name: stroke, dtype: int64"
      ]
     },
     "execution_count": 9,
     "metadata": {},
     "output_type": "execute_result"
    }
   ],
   "source": [
    "df['stroke'].value_counts()"
   ]
  },
  {
   "cell_type": "code",
   "execution_count": 10,
   "metadata": {},
   "outputs": [
    {
     "data": {
      "text/plain": [
       "<seaborn.axisgrid.FacetGrid at 0x239efd630a0>"
      ]
     },
     "execution_count": 10,
     "metadata": {},
     "output_type": "execute_result"
    },
    {
     "data": {
      "image/png": "[encoded data removed]",
      "text/plain": [
       "<Figure size 360x360 with 1 Axes>"
      ]
     },
     "metadata": {
      "needs_background": "light"
     },
     "output_type": "display_data"
    }
   ],
   "source": [
    "sns.catplot(\n",
    "    data=df,\n",
    "    x=\"stroke\",\n",
    "    kind=\"count\",\n",
    "    margin_titles=True\n",
    "\n",
    ")"
   ]
  },
  {
   "cell_type": "markdown",
   "metadata": {},
   "source": [
    "#### Histograms from HO book"
   ]
  },
  {
   "cell_type": "code",
   "execution_count": 11,
   "metadata": {},
   "outputs": [
    {
     "data": {
      "image/png": "[encoded data removed]",
      "text/plain": [
       "<Figure size 1440x576 with 6 Axes>"
      ]
     },
     "metadata": {
      "needs_background": "light"
     },
     "output_type": "display_data"
    }
   ],
   "source": [
    "# histograms of stroke = True\n",
    "\n",
    "%matplotlib inline\n",
    "import matplotlib.pyplot as plt\n",
    "df.hist(bins=50, figsize=(20,8))\n",
    "#save_fig(\"attribute_histogram_plots\")\n",
    "plt.show()"
   ]
  },
  {
   "cell_type": "code",
   "execution_count": 12,
   "metadata": {},
   "outputs": [],
   "source": [
    "df_stroke = df[df[\"stroke\"] == 1]"
   ]
  },
  {
   "cell_type": "code",
   "execution_count": 13,
   "metadata": {},
   "outputs": [
    {
     "data": {
      "text/html": [
       "<div>\n",
       "<style scoped>\n",
       "    .dataframe tbody tr th:only-of-type {\n",
       "        vertical-align: middle;\n",
       "    }\n",
       "\n",
       "    .dataframe tbody tr th {\n",
       "        vertical-align: top;\n",
       "    }\n",
       "\n",
       "    .dataframe thead th {\n",
       "        text-align: right;\n",
       "    }\n",
       "</style>\n",
       "<table border=\"1\" class=\"dataframe\">\n",
       "  <thead>\n",
       "    <tr style=\"text-align: right;\">\n",
       "      <th></th>\n",
       "      <th>gender</th>\n",
       "      <th>age</th>\n",
       "      <th>hypertension</th>\n",
       "      <th>heart_disease</th>\n",
       "      <th>ever_married</th>\n",
       "      <th>work_type</th>\n",
       "      <th>Residence_type</th>\n",
       "      <th>avg_glucose_level</th>\n",
       "      <th>bmi</th>\n",
       "      <th>smoking_status</th>\n",
       "      <th>stroke</th>\n",
       "    </tr>\n",
       "  </thead>\n",
       "  <tbody>\n",
       "    <tr>\n",
       "      <th>0</th>\n",
       "      <td>Male</td>\n",
       "      <td>67.0</td>\n",
       "      <td>0</td>\n",
       "      <td>1</td>\n",
       "      <td>Yes</td>\n",
       "      <td>Private</td>\n",
       "      <td>Urban</td>\n",
       "      <td>228.69</td>\n",
       "      <td>36.6</td>\n",
       "      <td>formerly smoked</td>\n",
       "      <td>1</td>\n",
       "    </tr>\n",
       "    <tr>\n",
       "      <th>1</th>\n",
       "      <td>Female</td>\n",
       "      <td>61.0</td>\n",
       "      <td>0</td>\n",
       "      <td>0</td>\n",
       "      <td>Yes</td>\n",
       "      <td>Self-employed</td>\n",
       "      <td>Rural</td>\n",
       "      <td>202.21</td>\n",
       "      <td>28.1</td>\n",
       "      <td>never smoked</td>\n",
       "      <td>1</td>\n",
       "    </tr>\n",
       "    <tr>\n",
       "      <th>2</th>\n",
       "      <td>Male</td>\n",
       "      <td>80.0</td>\n",
       "      <td>0</td>\n",
       "      <td>1</td>\n",
       "      <td>Yes</td>\n",
       "      <td>Private</td>\n",
       "      <td>Rural</td>\n",
       "      <td>105.92</td>\n",
       "      <td>32.5</td>\n",
       "      <td>never smoked</td>\n",
       "      <td>1</td>\n",
       "    </tr>\n",
       "    <tr>\n",
       "      <th>3</th>\n",
       "      <td>Female</td>\n",
       "      <td>49.0</td>\n",
       "      <td>0</td>\n",
       "      <td>0</td>\n",
       "      <td>Yes</td>\n",
       "      <td>Private</td>\n",
       "      <td>Urban</td>\n",
       "      <td>171.23</td>\n",
       "      <td>34.4</td>\n",
       "      <td>smokes</td>\n",
       "      <td>1</td>\n",
       "    </tr>\n",
       "    <tr>\n",
       "      <th>4</th>\n",
       "      <td>Female</td>\n",
       "      <td>79.0</td>\n",
       "      <td>1</td>\n",
       "      <td>0</td>\n",
       "      <td>Yes</td>\n",
       "      <td>Self-employed</td>\n",
       "      <td>Rural</td>\n",
       "      <td>174.12</td>\n",
       "      <td>24.0</td>\n",
       "      <td>never smoked</td>\n",
       "      <td>1</td>\n",
       "    </tr>\n",
       "  </tbody>\n",
       "</table>\n",
       "</div>"
      ],
      "text/plain": [
       "   gender   age  hypertension  heart_disease ever_married      work_type  \\\n",
       "0    Male  67.0             0              1          Yes        Private   \n",
       "1  Female  61.0             0              0          Yes  Self-employed   \n",
       "2    Male  80.0             0              1          Yes        Private   \n",
       "3  Female  49.0             0              0          Yes        Private   \n",
       "4  Female  79.0             1              0          Yes  Self-employed   \n",
       "\n",
       "  Residence_type  avg_glucose_level   bmi   smoking_status  stroke  \n",
       "0          Urban             228.69  36.6  formerly smoked       1  \n",
       "1          Rural             202.21  28.1     never smoked       1  \n",
       "2          Rural             105.92  32.5     never smoked       1  \n",
       "3          Urban             171.23  34.4           smokes       1  \n",
       "4          Rural             174.12  24.0     never smoked       1  "
      ]
     },
     "execution_count": 13,
     "metadata": {},
     "output_type": "execute_result"
    }
   ],
   "source": [
    "df_stroke.head()"
   ]
  },
  {
   "cell_type": "code",
   "execution_count": 14,
   "metadata": {},
   "outputs": [
    {
     "data": {
      "text/plain": [
       "<seaborn.axisgrid.PairGrid at 0x239f5912760>"
      ]
     },
     "execution_count": 14,
     "metadata": {},
     "output_type": "execute_result"
    },
    {
     "data": {
      "image/png": "[encoded data removed]",
      "text/plain": [
       "<Figure size 540x540 with 12 Axes>"
      ]
     },
     "metadata": {
      "needs_background": "light"
     },
     "output_type": "display_data"
    }
   ],
   "source": [
    "sns.pairplot(df_stroke[[\"age\", \"bmi\", \"avg_glucose_level\"]])"
   ]
  },
  {
   "cell_type": "markdown",
   "metadata": {},
   "source": [
    "### The distribution of bmi in normal group vs stroke group"
   ]
  },
  {
   "cell_type": "code",
   "execution_count": 15,
   "metadata": {},
   "outputs": [
    {
     "data": {
      "text/plain": [
       "(<AxesSubplot:xlabel='bmi'>, <AxesSubplot:xlabel='bmi'>)"
      ]
     },
     "execution_count": 15,
     "metadata": {},
     "output_type": "execute_result"
    },
    {
     "data": {
      "image/png": "[encoded data removed]",
      "text/plain": [
       "<Figure size 432x288 with 1 Axes>"
      ]
     },
     "metadata": {
      "needs_background": "light"
     },
     "output_type": "display_data"
    }
   ],
   "source": [
    "sns.distplot(df[\"bmi\"]), sns.distplot(df_stroke[\"bmi\"])"
   ]
  },
  {
   "cell_type": "markdown",
   "metadata": {},
   "source": [
    "### The distribution of age in normal group vs stroke group"
   ]
  },
  {
   "cell_type": "code",
   "execution_count": 16,
   "metadata": {},
   "outputs": [
    {
     "data": {
      "text/plain": [
       "(<AxesSubplot:xlabel='age'>, <AxesSubplot:xlabel='age'>)"
      ]
     },
     "execution_count": 16,
     "metadata": {},
     "output_type": "execute_result"
    },
    {
     "data": {
      "image/png": "[encoded data removed]",
      "text/plain": [
       "<Figure size 432x288 with 1 Axes>"
      ]
     },
     "metadata": {
      "needs_background": "light"
     },
     "output_type": "display_data"
    }
   ],
   "source": [
    "sns.distplot(df[\"age\"]), sns.distplot(df_stroke[\"age\"])"
   ]
  },
  {
   "cell_type": "markdown",
   "metadata": {},
   "source": [
    "### The distribution of average glucose level in normal group vs stroke group"
   ]
  },
  {
   "cell_type": "code",
   "execution_count": 17,
   "metadata": {},
   "outputs": [
    {
     "data": {
      "text/plain": [
       "(<AxesSubplot:xlabel='avg_glucose_level'>,\n",
       " <AxesSubplot:xlabel='avg_glucose_level'>)"
      ]
     },
     "execution_count": 17,
     "metadata": {},
     "output_type": "execute_result"
    },
    {
     "data": {
      "image/png": "[encoded data removed]",
      "text/plain": [
       "<Figure size 432x288 with 1 Axes>"
      ]
     },
     "metadata": {
      "needs_background": "light"
     },
     "output_type": "display_data"
    }
   ],
   "source": [
    "sns.distplot(df[\"avg_glucose_level\"]), sns.distplot(df_stroke[\"avg_glucose_level\"])"
   ]
  },
  {
   "cell_type": "markdown",
   "metadata": {},
   "source": [
    "#### Applying log for Variance of Data"
   ]
  },
  {
   "cell_type": "code",
   "execution_count": 18,
   "metadata": {},
   "outputs": [
    {
     "data": {
      "text/plain": [
       "age                   511.373788\n",
       "hypertension            0.087991\n",
       "heart_disease           0.051114\n",
       "avg_glucose_level    2050.731557\n",
       "bmi                    59.286689\n",
       "stroke                  0.046371\n",
       "dtype: float64"
      ]
     },
     "execution_count": 18,
     "metadata": {},
     "output_type": "execute_result"
    }
   ],
   "source": [
    "df.var()"
   ]
  },
  {
   "cell_type": "markdown",
   "metadata": {},
   "source": [
    "### 1. Applying log"
   ]
  },
  {
   "cell_type": "code",
   "execution_count": 19,
   "metadata": {},
   "outputs": [],
   "source": [
    "df[\"log_age\"] = np.log(df[\"age\"])"
   ]
  },
  {
   "cell_type": "code",
   "execution_count": 20,
   "metadata": {},
   "outputs": [],
   "source": [
    "df[\"log_glucose_level\"] = np.log(df[\"avg_glucose_level\"])"
   ]
  },
  {
   "cell_type": "code",
   "execution_count": 21,
   "metadata": {},
   "outputs": [],
   "source": [
    "df[\"log_bmi\"] = np.log(df[\"bmi\"])"
   ]
  },
  {
   "cell_type": "code",
   "execution_count": 22,
   "metadata": {},
   "outputs": [
    {
     "data": {
      "text/plain": [
       "age                   511.373788\n",
       "hypertension            0.087991\n",
       "heart_disease           0.051114\n",
       "avg_glucose_level    2050.731557\n",
       "bmi                    59.286689\n",
       "stroke                  0.046371\n",
       "log_age                 0.877409\n",
       "log_glucose_level       0.131032\n",
       "log_bmi                 0.067501\n",
       "dtype: float64"
      ]
     },
     "execution_count": 22,
     "metadata": {},
     "output_type": "execute_result"
    }
   ],
   "source": [
    "df.var()"
   ]
  },
  {
   "cell_type": "code",
   "execution_count": 23,
   "metadata": {},
   "outputs": [],
   "source": [
    "to_drop = ['age', 'avg_glucose_level', 'bmi']"
   ]
  },
  {
   "cell_type": "code",
   "execution_count": 24,
   "metadata": {},
   "outputs": [],
   "source": [
    "df = df.drop(to_drop, axis=1)"
   ]
  },
  {
   "cell_type": "code",
   "execution_count": 25,
   "metadata": {},
   "outputs": [
    {
     "data": {
      "text/html": [
       "<div>\n",
       "<style scoped>\n",
       "    .dataframe tbody tr th:only-of-type {\n",
       "        vertical-align: middle;\n",
       "    }\n",
       "\n",
       "    .dataframe tbody tr th {\n",
       "        vertical-align: top;\n",
       "    }\n",
       "\n",
       "    .dataframe thead th {\n",
       "        text-align: right;\n",
       "    }\n",
       "</style>\n",
       "<table border=\"1\" class=\"dataframe\">\n",
       "  <thead>\n",
       "    <tr style=\"text-align: right;\">\n",
       "      <th></th>\n",
       "      <th>gender</th>\n",
       "      <th>hypertension</th>\n",
       "      <th>heart_disease</th>\n",
       "      <th>ever_married</th>\n",
       "      <th>work_type</th>\n",
       "      <th>Residence_type</th>\n",
       "      <th>smoking_status</th>\n",
       "      <th>stroke</th>\n",
       "      <th>log_age</th>\n",
       "      <th>log_glucose_level</th>\n",
       "      <th>log_bmi</th>\n",
       "    </tr>\n",
       "  </thead>\n",
       "  <tbody>\n",
       "    <tr>\n",
       "      <th>0</th>\n",
       "      <td>Male</td>\n",
       "      <td>0</td>\n",
       "      <td>1</td>\n",
       "      <td>Yes</td>\n",
       "      <td>Private</td>\n",
       "      <td>Urban</td>\n",
       "      <td>formerly smoked</td>\n",
       "      <td>1</td>\n",
       "      <td>4.204693</td>\n",
       "      <td>5.432367</td>\n",
       "      <td>3.600048</td>\n",
       "    </tr>\n",
       "    <tr>\n",
       "      <th>1</th>\n",
       "      <td>Female</td>\n",
       "      <td>0</td>\n",
       "      <td>0</td>\n",
       "      <td>Yes</td>\n",
       "      <td>Self-employed</td>\n",
       "      <td>Rural</td>\n",
       "      <td>never smoked</td>\n",
       "      <td>1</td>\n",
       "      <td>4.110874</td>\n",
       "      <td>5.309307</td>\n",
       "      <td>3.335770</td>\n",
       "    </tr>\n",
       "    <tr>\n",
       "      <th>2</th>\n",
       "      <td>Male</td>\n",
       "      <td>0</td>\n",
       "      <td>1</td>\n",
       "      <td>Yes</td>\n",
       "      <td>Private</td>\n",
       "      <td>Rural</td>\n",
       "      <td>never smoked</td>\n",
       "      <td>1</td>\n",
       "      <td>4.382027</td>\n",
       "      <td>4.662684</td>\n",
       "      <td>3.481240</td>\n",
       "    </tr>\n",
       "    <tr>\n",
       "      <th>3</th>\n",
       "      <td>Female</td>\n",
       "      <td>0</td>\n",
       "      <td>0</td>\n",
       "      <td>Yes</td>\n",
       "      <td>Private</td>\n",
       "      <td>Urban</td>\n",
       "      <td>smokes</td>\n",
       "      <td>1</td>\n",
       "      <td>3.891820</td>\n",
       "      <td>5.143008</td>\n",
       "      <td>3.538057</td>\n",
       "    </tr>\n",
       "    <tr>\n",
       "      <th>4</th>\n",
       "      <td>Female</td>\n",
       "      <td>1</td>\n",
       "      <td>0</td>\n",
       "      <td>Yes</td>\n",
       "      <td>Self-employed</td>\n",
       "      <td>Rural</td>\n",
       "      <td>never smoked</td>\n",
       "      <td>1</td>\n",
       "      <td>4.369448</td>\n",
       "      <td>5.159745</td>\n",
       "      <td>3.178054</td>\n",
       "    </tr>\n",
       "  </tbody>\n",
       "</table>\n",
       "</div>"
      ],
      "text/plain": [
       "   gender  hypertension  heart_disease ever_married      work_type  \\\n",
       "0    Male             0              1          Yes        Private   \n",
       "1  Female             0              0          Yes  Self-employed   \n",
       "2    Male             0              1          Yes        Private   \n",
       "3  Female             0              0          Yes        Private   \n",
       "4  Female             1              0          Yes  Self-employed   \n",
       "\n",
       "  Residence_type   smoking_status  stroke   log_age  log_glucose_level  \\\n",
       "0          Urban  formerly smoked       1  4.204693           5.432367   \n",
       "1          Rural     never smoked       1  4.110874           5.309307   \n",
       "2          Rural     never smoked       1  4.382027           4.662684   \n",
       "3          Urban           smokes       1  3.891820           5.143008   \n",
       "4          Rural     never smoked       1  4.369448           5.159745   \n",
       "\n",
       "    log_bmi  \n",
       "0  3.600048  \n",
       "1  3.335770  \n",
       "2  3.481240  \n",
       "3  3.538057  \n",
       "4  3.178054  "
      ]
     },
     "execution_count": 25,
     "metadata": {},
     "output_type": "execute_result"
    }
   ],
   "source": [
    "df.head()"
   ]
  },
  {
   "cell_type": "code",
   "execution_count": 26,
   "metadata": {},
   "outputs": [
    {
     "data": {
      "text/plain": [
       "hypertension         0.087991\n",
       "heart_disease        0.051114\n",
       "stroke               0.046371\n",
       "log_age              0.877409\n",
       "log_glucose_level    0.131032\n",
       "log_bmi              0.067501\n",
       "dtype: float64"
      ]
     },
     "execution_count": 26,
     "metadata": {},
     "output_type": "execute_result"
    }
   ],
   "source": [
    "df.var()"
   ]
  },
  {
   "cell_type": "code",
   "execution_count": 411,
   "metadata": {},
   "outputs": [],
   "source": [
    "from sklearn.preprocessing import StandardScaler\n",
    "from sklearn.preprocessing import MinMaxScaler\n",
    "\n",
    "scaler = StandardScaler()\n",
    "minmax = MinMaxScaler()"
   ]
  },
  {
   "cell_type": "code",
   "execution_count": 28,
   "metadata": {},
   "outputs": [
    {
     "data": {
      "text/html": [
       "<div>\n",
       "<style scoped>\n",
       "    .dataframe tbody tr th:only-of-type {\n",
       "        vertical-align: middle;\n",
       "    }\n",
       "\n",
       "    .dataframe tbody tr th {\n",
       "        vertical-align: top;\n",
       "    }\n",
       "\n",
       "    .dataframe thead th {\n",
       "        text-align: right;\n",
       "    }\n",
       "</style>\n",
       "<table border=\"1\" class=\"dataframe\">\n",
       "  <thead>\n",
       "    <tr style=\"text-align: right;\">\n",
       "      <th></th>\n",
       "      <th>gender</th>\n",
       "      <th>hypertension</th>\n",
       "      <th>heart_disease</th>\n",
       "      <th>ever_married</th>\n",
       "      <th>work_type</th>\n",
       "      <th>Residence_type</th>\n",
       "      <th>smoking_status</th>\n",
       "      <th>stroke</th>\n",
       "      <th>log_age</th>\n",
       "      <th>log_glucose_level</th>\n",
       "      <th>log_bmi</th>\n",
       "    </tr>\n",
       "  </thead>\n",
       "  <tbody>\n",
       "    <tr>\n",
       "      <th>0</th>\n",
       "      <td>Male</td>\n",
       "      <td>0</td>\n",
       "      <td>1</td>\n",
       "      <td>Yes</td>\n",
       "      <td>Private</td>\n",
       "      <td>Urban</td>\n",
       "      <td>formerly smoked</td>\n",
       "      <td>1</td>\n",
       "      <td>4.204693</td>\n",
       "      <td>5.432367</td>\n",
       "      <td>3.600048</td>\n",
       "    </tr>\n",
       "    <tr>\n",
       "      <th>1</th>\n",
       "      <td>Female</td>\n",
       "      <td>0</td>\n",
       "      <td>0</td>\n",
       "      <td>Yes</td>\n",
       "      <td>Self-employed</td>\n",
       "      <td>Rural</td>\n",
       "      <td>never smoked</td>\n",
       "      <td>1</td>\n",
       "      <td>4.110874</td>\n",
       "      <td>5.309307</td>\n",
       "      <td>3.335770</td>\n",
       "    </tr>\n",
       "    <tr>\n",
       "      <th>2</th>\n",
       "      <td>Male</td>\n",
       "      <td>0</td>\n",
       "      <td>1</td>\n",
       "      <td>Yes</td>\n",
       "      <td>Private</td>\n",
       "      <td>Rural</td>\n",
       "      <td>never smoked</td>\n",
       "      <td>1</td>\n",
       "      <td>4.382027</td>\n",
       "      <td>4.662684</td>\n",
       "      <td>3.481240</td>\n",
       "    </tr>\n",
       "    <tr>\n",
       "      <th>3</th>\n",
       "      <td>Female</td>\n",
       "      <td>0</td>\n",
       "      <td>0</td>\n",
       "      <td>Yes</td>\n",
       "      <td>Private</td>\n",
       "      <td>Urban</td>\n",
       "      <td>smokes</td>\n",
       "      <td>1</td>\n",
       "      <td>3.891820</td>\n",
       "      <td>5.143008</td>\n",
       "      <td>3.538057</td>\n",
       "    </tr>\n",
       "    <tr>\n",
       "      <th>4</th>\n",
       "      <td>Female</td>\n",
       "      <td>1</td>\n",
       "      <td>0</td>\n",
       "      <td>Yes</td>\n",
       "      <td>Self-employed</td>\n",
       "      <td>Rural</td>\n",
       "      <td>never smoked</td>\n",
       "      <td>1</td>\n",
       "      <td>4.369448</td>\n",
       "      <td>5.159745</td>\n",
       "      <td>3.178054</td>\n",
       "    </tr>\n",
       "  </tbody>\n",
       "</table>\n",
       "</div>"
      ],
      "text/plain": [
       "   gender  hypertension  heart_disease ever_married      work_type  \\\n",
       "0    Male             0              1          Yes        Private   \n",
       "1  Female             0              0          Yes  Self-employed   \n",
       "2    Male             0              1          Yes        Private   \n",
       "3  Female             0              0          Yes        Private   \n",
       "4  Female             1              0          Yes  Self-employed   \n",
       "\n",
       "  Residence_type   smoking_status  stroke   log_age  log_glucose_level  \\\n",
       "0          Urban  formerly smoked       1  4.204693           5.432367   \n",
       "1          Rural     never smoked       1  4.110874           5.309307   \n",
       "2          Rural     never smoked       1  4.382027           4.662684   \n",
       "3          Urban           smokes       1  3.891820           5.143008   \n",
       "4          Rural     never smoked       1  4.369448           5.159745   \n",
       "\n",
       "    log_bmi  \n",
       "0  3.600048  \n",
       "1  3.335770  \n",
       "2  3.481240  \n",
       "3  3.538057  \n",
       "4  3.178054  "
      ]
     },
     "execution_count": 28,
     "metadata": {},
     "output_type": "execute_result"
    }
   ],
   "source": [
    "df.head()"
   ]
  },
  {
   "cell_type": "code",
   "execution_count": null,
   "metadata": {},
   "outputs": [],
   "source": []
  },
  {
   "cell_type": "code",
   "execution_count": null,
   "metadata": {},
   "outputs": [],
   "source": []
  },
  {
   "cell_type": "markdown",
   "metadata": {},
   "source": [
    "---"
   ]
  },
  {
   "cell_type": "markdown",
   "metadata": {},
   "source": [
    "### 2. Define the X and y so that the X are the Features and y is the targets"
   ]
  },
  {
   "cell_type": "code",
   "execution_count": 29,
   "metadata": {},
   "outputs": [],
   "source": [
    "X = df.drop('stroke', axis=1)"
   ]
  },
  {
   "cell_type": "code",
   "execution_count": 30,
   "metadata": {},
   "outputs": [],
   "source": [
    "y = df['stroke']"
   ]
  },
  {
   "cell_type": "markdown",
   "metadata": {},
   "source": [
    "### 3. OHE"
   ]
  },
  {
   "cell_type": "code",
   "execution_count": 31,
   "metadata": {},
   "outputs": [],
   "source": [
    "from sklearn.preprocessing import OneHotEncoder\n",
    "from sklearn.compose import make_column_transformer\n",
    "\n",
    "ohe = OneHotEncoder()"
   ]
  },
  {
   "cell_type": "code",
   "execution_count": 32,
   "metadata": {},
   "outputs": [],
   "source": [
    "ct = make_column_transformer(\n",
    "    (OneHotEncoder(),['gender', 'hypertension', 'heart_disease', 'ever_married', 'work_type', 'Residence_type', 'smoking_status']),\n",
    "    remainder='passthrough')"
   ]
  },
  {
   "cell_type": "code",
   "execution_count": 33,
   "metadata": {},
   "outputs": [],
   "source": [
    "X = ct.fit_transform(X)"
   ]
  },
  {
   "cell_type": "code",
   "execution_count": 34,
   "metadata": {},
   "outputs": [
    {
     "data": {
      "text/plain": [
       "array([[0.        , 1.        , 1.        , ..., 4.20469262, 5.43236737,\n",
       "        3.60004824],\n",
       "       [1.        , 0.        , 1.        , ..., 4.11087386, 5.30930676,\n",
       "        3.33576958],\n",
       "       [0.        , 1.        , 1.        , ..., 4.38202663, 4.66268409,\n",
       "        3.48124009],\n",
       "       ...,\n",
       "       [1.        , 0.        , 1.        , ..., 3.55534806, 4.41872012,\n",
       "        3.42100001],\n",
       "       [0.        , 1.        , 1.        , ..., 3.93182563, 5.11373325,\n",
       "        3.24259235],\n",
       "       [1.        , 0.        , 1.        , ..., 3.78418963, 4.44593996,\n",
       "        3.26575941]])"
      ]
     },
     "execution_count": 34,
     "metadata": {},
     "output_type": "execute_result"
    }
   ],
   "source": [
    "X"
   ]
  },
  {
   "cell_type": "markdown",
   "metadata": {},
   "source": [
    "### 4. Split the data into Testing and Training"
   ]
  },
  {
   "cell_type": "code",
   "execution_count": 35,
   "metadata": {},
   "outputs": [],
   "source": [
    "from sklearn.model_selection import train_test_split\n",
    "from sklearn.pipeline import Pipeline\n",
    "from sklearn.linear_model import LogisticRegression\n",
    "from sklearn.impute import SimpleImputer"
   ]
  },
  {
   "cell_type": "code",
   "execution_count": 36,
   "metadata": {},
   "outputs": [],
   "source": [
    "train_X, X_test, train_y, y_test = train_test_split(X, y, test_size=0.2, random_state=42, stratify=y)\n",
    "\n",
    "\n"
   ]
  },
  {
   "cell_type": "markdown",
   "metadata": {},
   "source": [
    "### 5. Upscaling Data due to class imbalance"
   ]
  },
  {
   "cell_type": "code",
   "execution_count": 349,
   "metadata": {},
   "outputs": [],
   "source": [
    "from imblearn.combine import SMOTETomek\n",
    "from imblearn.combine import SMOTEENN\n",
    "from imblearn.over_sampling import SMOTE\n"
   ]
  },
  {
   "cell_type": "code",
   "execution_count": 351,
   "metadata": {},
   "outputs": [],
   "source": [
    "smk = SMOTE(random_state=139)"
   ]
  },
  {
   "cell_type": "code",
   "execution_count": 39,
   "metadata": {},
   "outputs": [],
   "source": [
    "X_train, y_train = smk.fit_sample(train_X, train_y)"
   ]
  },
  {
   "cell_type": "markdown",
   "metadata": {},
   "source": [
    "---"
   ]
  },
  {
   "cell_type": "code",
   "execution_count": 353,
   "metadata": {},
   "outputs": [
    {
     "data": {
      "text/plain": [
       "array([[1.        , 0.        , 1.        , ..., 3.87120101, 4.23714536,\n",
       "        3.49953328],\n",
       "       [1.        , 0.        , 1.        , ..., 3.36729583, 4.43307615,\n",
       "        3.05400118],\n",
       "       [1.        , 0.        , 1.        , ..., 3.55534806, 4.7824792 ,\n",
       "        3.13113691],\n",
       "       ...,\n",
       "       [1.        , 0.        , 0.        , ..., 4.09061775, 5.21871439,\n",
       "        3.26758104],\n",
       "       [0.        , 1.        , 1.        , ..., 4.29110848, 4.32556314,\n",
       "        3.40985359],\n",
       "       [1.        , 0.        , 1.        , ..., 4.30876286, 4.40108325,\n",
       "        3.32555381]])"
      ]
     },
     "execution_count": 353,
     "metadata": {},
     "output_type": "execute_result"
    }
   ],
   "source": [
    "X_train"
   ]
  },
  {
   "cell_type": "code",
   "execution_count": 354,
   "metadata": {},
   "outputs": [
    {
     "data": {
      "text/plain": [
       "1    3888\n",
       "0    3888\n",
       "Name: stroke, dtype: int64"
      ]
     },
     "execution_count": 354,
     "metadata": {},
     "output_type": "execute_result"
    }
   ],
   "source": [
    "y_train.value_counts()"
   ]
  },
  {
   "cell_type": "markdown",
   "metadata": {},
   "source": [
    "---"
   ]
  },
  {
   "cell_type": "code",
   "execution_count": 355,
   "metadata": {},
   "outputs": [],
   "source": [
    "from sklearn.model_selection import GridSearchCV"
   ]
  },
  {
   "cell_type": "markdown",
   "metadata": {},
   "source": [
    "![green-divider](https://user-images.githubusercontent.com/7065401/52071924-c003ad80-2562-11e9-8297-1c6595f8a7ff.png)"
   ]
  },
  {
   "cell_type": "markdown",
   "metadata": {},
   "source": [
    "### Model 1 : Logistic Regression Pipeline with Cross Validation"
   ]
  },
  {
   "cell_type": "code",
   "execution_count": 438,
   "metadata": {},
   "outputs": [],
   "source": [
    "logreg = LogisticRegression(max_iter=10000, class_weight={0: 0.065, 1: 0.9})"
   ]
  },
  {
   "cell_type": "code",
   "execution_count": 445,
   "metadata": {},
   "outputs": [],
   "source": [
    "steps_logreg = [('Scaling', StandardScaler()),\n",
    "                ('logistic_regression', logreg)]\n",
    "\n",
    "pipeline_logreg = Pipeline(steps_logreg)\n",
    "\n",
    "parameters_logreg = {\n",
    "    'logistic_regression__solver': ['liblinear'],\n",
    "    'logistic_regression__C': np.arange(80,101),\n",
    "             }\n",
    "\n",
    "cv_logreg = GridSearchCV(pipeline_logreg, param_grid=parameters_logreg, cv=5, scoring='f1')"
   ]
  },
  {
   "cell_type": "code",
   "execution_count": 446,
   "metadata": {},
   "outputs": [
    {
     "data": {
      "text/plain": [
       "GridSearchCV(cv=5,\n",
       "             estimator=Pipeline(steps=[('Scaling', StandardScaler()),\n",
       "                                       ('logistic_regression',\n",
       "                                        LogisticRegression(class_weight={0: 0.065,\n",
       "                                                                         1: 0.9},\n",
       "                                                           max_iter=10000))]),\n",
       "             param_grid={'logistic_regression__C': array([ 80,  81,  82,  83,  84,  85,  86,  87,  88,  89,  90,  91,  92,\n",
       "        93,  94,  95,  96,  97,  98,  99, 100]),\n",
       "                         'logistic_regression__solver': ['liblinear']},\n",
       "             scoring='f1')"
      ]
     },
     "execution_count": 446,
     "metadata": {},
     "output_type": "execute_result"
    }
   ],
   "source": [
    "cv_logreg.fit(X_train, y_train)"
   ]
  },
  {
   "cell_type": "code",
   "execution_count": 447,
   "metadata": {},
   "outputs": [
    {
     "name": "stdout",
     "output_type": "stream",
     "text": [
      "{'logistic_regression__C': 80, 'logistic_regression__solver': 'liblinear'}\n"
     ]
    }
   ],
   "source": [
    "print(cv_logreg.best_params_)"
   ]
  },
  {
   "cell_type": "code",
   "execution_count": null,
   "metadata": {},
   "outputs": [],
   "source": []
  },
  {
   "cell_type": "markdown",
   "metadata": {},
   "source": [
    "### Scores : roc auc, classification report, confusion matrix"
   ]
  },
  {
   "cell_type": "code",
   "execution_count": 448,
   "metadata": {},
   "outputs": [
    {
     "name": "stdout",
     "output_type": "stream",
     "text": [
      "roc_auc_score\n",
      "0.8366049382716049\n",
      "classification report\n",
      "              precision    recall  f1-score   support\n",
      "\n",
      "           0       1.00      0.33      0.50       972\n",
      "           1       0.07      1.00      0.13        50\n",
      "\n",
      "    accuracy                           0.36      1022\n",
      "   macro avg       0.54      0.67      0.31      1022\n",
      "weighted avg       0.95      0.36      0.48      1022\n",
      "\n",
      "confusion matric\n",
      "[[321 651]\n",
      " [  0  50]]\n"
     ]
    }
   ],
   "source": [
    "y_pred_logreg = cv_logreg.predict(X_test)\n",
    "\n",
    "y_prob_logreg = cv_logreg.predict_proba(X_test)\n",
    "\n",
    "from sklearn.metrics import classification_report\n",
    "from sklearn.metrics import roc_auc_score\n",
    "from sklearn.metrics import f1_score\n",
    "\n",
    "# New from the course of fraud detection\n",
    "print(\"roc_auc_score\")\n",
    "print(roc_auc_score(y_test, y_prob_logreg[:,1]))\n",
    "\n",
    "print(\"classification report\")\n",
    "print(classification_report(y_test, y_pred_logreg))\n",
    "\n",
    "print(\"confusion matric\")\n",
    "print(confusion_matrix(y_test, y_pred_logreg))"
   ]
  },
  {
   "cell_type": "markdown",
   "metadata": {},
   "source": [
    "![green-divider](https://user-images.githubusercontent.com/7065401/52071924-c003ad80-2562-11e9-8297-1c6595f8a7ff.png)"
   ]
  },
  {
   "cell_type": "markdown",
   "metadata": {},
   "source": [
    "### Model 2 : Random Forest Pipeline with Cross Validation"
   ]
  },
  {
   "cell_type": "code",
   "execution_count": 54,
   "metadata": {},
   "outputs": [],
   "source": [
    "from sklearn.ensemble import RandomForestClassifier"
   ]
  },
  {
   "cell_type": "code",
   "execution_count": 66,
   "metadata": {},
   "outputs": [],
   "source": [
    "rf = RandomForestClassifier(class_weight={0:1, 1:12})"
   ]
  },
  {
   "cell_type": "code",
   "execution_count": 208,
   "metadata": {},
   "outputs": [],
   "source": [
    "steps_rf = [('Scaling', StandardScaler()),\n",
    "            ('random_forest', rf)]\n",
    "\n",
    "pipeline_rf = Pipeline(steps_rf)\n",
    "\n",
    "parameters = {\n",
    "    'random_forest__criterion': ['gini', 'entropy'],    \n",
    "    'random_forest__max_depth': [10, 50, 100, None],\n",
    "    'random_forest__max_features': [1, 5, 10],\n",
    "    'random_forest__min_samples_leaf': [1, 5, 10],\n",
    "    'random_forest__min_samples_split': [2, 5, 10],\n",
    "    'random_forest__n_estimators': [10, 50, 100, 200, 400, 600]\n",
    "                 }\n",
    "\n",
    "cv_rf = GridSearchCV(pipeline_rf, param_grid=parameters, cv=5, scoring='recall')"
   ]
  },
  {
   "cell_type": "code",
   "execution_count": 69,
   "metadata": {},
   "outputs": [
    {
     "data": {
      "text/plain": [
       "GridSearchCV(cv=5,\n",
       "             estimator=Pipeline(steps=[('Scaling', StandardScaler()),\n",
       "                                       ('random_forest',\n",
       "                                        RandomForestClassifier(class_weight={0: 1,\n",
       "                                                                             1: 12}))]),\n",
       "             param_grid={'random_forest__criterion': ['gini', 'entropy'],\n",
       "                         'random_forest__max_depth': [10, 50, 100, None],\n",
       "                         'random_forest__max_features': [1, 5, 10],\n",
       "                         'random_forest__min_samples_leaf': [1, 5, 10],\n",
       "                         'random_forest__min_samples_split': [2, 5, 10],\n",
       "                         'random_forest__n_estimators': [10, 50, 100, 200, 400,\n",
       "                                                         600]},\n",
       "             scoring='f1')"
      ]
     },
     "execution_count": 69,
     "metadata": {},
     "output_type": "execute_result"
    }
   ],
   "source": [
    "cv_rf.fit(X_train, y_train)"
   ]
  },
  {
   "cell_type": "code",
   "execution_count": 283,
   "metadata": {},
   "outputs": [
    {
     "ename": "AttributeError",
     "evalue": "'GridSearchCV' object has no attribute 'best_params_'",
     "output_type": "error",
     "traceback": [
      "\u001b[1;31m---------------------------------------------------------------------------\u001b[0m",
      "\u001b[1;31mAttributeError\u001b[0m                            Traceback (most recent call last)",
      "\u001b[1;32m<ipython-input-283-89d08eabae6e>\u001b[0m in \u001b[0;36m<module>\u001b[1;34m\u001b[0m\n\u001b[1;32m----> 1\u001b[1;33m \u001b[0mprint\u001b[0m\u001b[1;33m(\u001b[0m\u001b[0mcv_rf\u001b[0m\u001b[1;33m.\u001b[0m\u001b[0mbest_params_\u001b[0m\u001b[1;33m)\u001b[0m\u001b[1;33m\u001b[0m\u001b[1;33m\u001b[0m\u001b[0m\n\u001b[0m",
      "\u001b[1;31mAttributeError\u001b[0m: 'GridSearchCV' object has no attribute 'best_params_'"
     ]
    }
   ],
   "source": [
    "print(cv_rf.best_params_)"
   ]
  },
  {
   "cell_type": "markdown",
   "metadata": {},
   "source": [
    "#### The best parameters are:-\n",
    "{'random_forest__criterion': 'entropy', 'random_forest__max_depth': None, 'random_forest__max_features': 1, 'random_forest__min_samples_leaf': 1, 'random_forest__min_samples_split': 2, 'random_forest__n_estimators': 600}\n"
   ]
  },
  {
   "cell_type": "markdown",
   "metadata": {},
   "source": [
    "### Scores : roc auc, classification report, confusion matrix"
   ]
  },
  {
   "cell_type": "code",
   "execution_count": 87,
   "metadata": {},
   "outputs": [
    {
     "name": "stdout",
     "output_type": "stream",
     "text": [
      "roc_auc_score\n",
      "0.7440843621399177\n",
      "classification report\n",
      "              precision    recall  f1-score   support\n",
      "\n",
      "           0       0.96      0.95      0.95       972\n",
      "           1       0.17      0.20      0.19        50\n",
      "\n",
      "    accuracy                           0.91      1022\n",
      "   macro avg       0.57      0.58      0.57      1022\n",
      "weighted avg       0.92      0.91      0.92      1022\n",
      "\n",
      "confusion matric\n",
      "[[924  48]\n",
      " [ 40  10]]\n"
     ]
    }
   ],
   "source": [
    "y_pred_rf = cv_rf.predict(X_test)\n",
    "\n",
    "y_prob_rf = cv_rf.predict_proba(X_test)\n",
    "\n",
    "\n",
    "# New from the course of fraud detection\n",
    "print(\"roc_auc_score\")\n",
    "print(roc_auc_score(y_test, y_prob_rf[:,1]))\n",
    "\n",
    "print(\"classification report\")\n",
    "print(classification_report(y_test, y_pred_rf))\n",
    "\n",
    "print(\"confusion matric\")\n",
    "print(confusion_matrix(y_test, y_pred_rf))"
   ]
  },
  {
   "cell_type": "markdown",
   "metadata": {},
   "source": [
    "![green-divider](https://user-images.githubusercontent.com/7065401/52071924-c003ad80-2562-11e9-8297-1c6595f8a7ff.png)"
   ]
  },
  {
   "cell_type": "markdown",
   "metadata": {},
   "source": [
    "### Model 3 : Decision Tree with Cross Validation"
   ]
  },
  {
   "cell_type": "code",
   "execution_count": 286,
   "metadata": {},
   "outputs": [],
   "source": [
    "from sklearn.tree import DecisionTreeClassifier"
   ]
  },
  {
   "cell_type": "code",
   "execution_count": 398,
   "metadata": {},
   "outputs": [],
   "source": [
    "dt = DecisionTreeClassifier(class_weight=\"balanced\") "
   ]
  },
  {
   "cell_type": "code",
   "execution_count": 452,
   "metadata": {},
   "outputs": [],
   "source": [
    "steps_dt = [('Scaling', StandardScaler()),\n",
    "            ('dectree', dt)]\n",
    "\n",
    "pipeline_dt = Pipeline(steps_dt)\n",
    "\n",
    "parameters_dt = {\n",
    "        'dectree__max_depth': np.arange(1,50, 2),    \n",
    "                 }\n",
    "\n",
    "cv_dt = GridSearchCV(pipeline_dt, param_grid=parameters_dt, cv=5, scoring='f1')"
   ]
  },
  {
   "cell_type": "code",
   "execution_count": 453,
   "metadata": {},
   "outputs": [
    {
     "data": {
      "text/plain": [
       "GridSearchCV(cv=5,\n",
       "             estimator=Pipeline(steps=[('Scaling', StandardScaler()),\n",
       "                                       ('dectree',\n",
       "                                        DecisionTreeClassifier(class_weight='balanced'))]),\n",
       "             param_grid={'dectree__max_depth': array([ 1,  3,  5,  7,  9, 11, 13, 15, 17, 19, 21, 23, 25, 27, 29, 31, 33,\n",
       "       35, 37, 39, 41, 43, 45, 47, 49])},\n",
       "             scoring='f1')"
      ]
     },
     "execution_count": 453,
     "metadata": {},
     "output_type": "execute_result"
    }
   ],
   "source": [
    "cv_dt.fit(X_train, y_train)"
   ]
  },
  {
   "cell_type": "code",
   "execution_count": 454,
   "metadata": {},
   "outputs": [
    {
     "name": "stdout",
     "output_type": "stream",
     "text": [
      "{'dectree__max_depth': 47}\n"
     ]
    }
   ],
   "source": [
    "print(cv_dt.best_params_)"
   ]
  },
  {
   "cell_type": "markdown",
   "metadata": {},
   "source": [
    "### Scores : roc auc, classification report, confusion matrix"
   ]
  },
  {
   "cell_type": "code",
   "execution_count": 455,
   "metadata": {},
   "outputs": [
    {
     "name": "stdout",
     "output_type": "stream",
     "text": [
      "roc_auc_score\n",
      "0.5611316872427984\n",
      "classification report\n",
      "              precision    recall  f1-score   support\n",
      "\n",
      "           0       0.96      0.90      0.93       972\n",
      "           1       0.10      0.22      0.14        50\n",
      "\n",
      "    accuracy                           0.87      1022\n",
      "   macro avg       0.53      0.56      0.54      1022\n",
      "weighted avg       0.92      0.87      0.89      1022\n",
      "\n",
      "confusion matric\n",
      "[[877  95]\n",
      " [ 39  11]]\n"
     ]
    }
   ],
   "source": [
    "y_pred_dt = cv_dt.predict(X_test)\n",
    "\n",
    "y_prob_dt = cv_dt.predict_proba(X_test)\n",
    "\n",
    "\n",
    "# New from the course of fraud detection\n",
    "print(\"roc_auc_score\")\n",
    "print(roc_auc_score(y_test, y_prob_dt[:,1]))\n",
    "\n",
    "print(\"classification report\")\n",
    "print(classification_report(y_test, y_pred_dt))\n",
    "\n",
    "print(\"confusion matric\")\n",
    "print(confusion_matrix(y_test, y_pred_dt))"
   ]
  },
  {
   "cell_type": "markdown",
   "metadata": {},
   "source": [
    "![green-divider](https://user-images.githubusercontent.com/7065401/52071924-c003ad80-2562-11e9-8297-1c6595f8a7ff.png)"
   ]
  },
  {
   "cell_type": "markdown",
   "metadata": {},
   "source": [
    "### Model 4 : SVM with Cross Validation"
   ]
  },
  {
   "cell_type": "code",
   "execution_count": 450,
   "metadata": {},
   "outputs": [],
   "source": [
    "from sklearn.svm import SVC"
   ]
  },
  {
   "cell_type": "code",
   "execution_count": 463,
   "metadata": {},
   "outputs": [],
   "source": [
    "sv = SVC(probability=True)"
   ]
  },
  {
   "cell_type": "code",
   "execution_count": 464,
   "metadata": {},
   "outputs": [],
   "source": [
    "steps_sv = [('Scaling', StandardScaler()),\n",
    "            ('supportvector', sv)]\n",
    "\n",
    "pipeline_sv = Pipeline(steps_sv)\n",
    "\n",
    "parameters_sv = {\n",
    "        'supportvector__C': np.arange(0.1, 0.9, 0.1),    \n",
    "                 }\n",
    "\n",
    "cv_sv = GridSearchCV(pipeline_sv, param_grid=parameters_sv, cv=5, scoring='f1')"
   ]
  },
  {
   "cell_type": "code",
   "execution_count": 465,
   "metadata": {},
   "outputs": [
    {
     "data": {
      "text/plain": [
       "GridSearchCV(cv=5,\n",
       "             estimator=Pipeline(steps=[('Scaling', StandardScaler()),\n",
       "                                       ('supportvector',\n",
       "                                        SVC(probability=True))]),\n",
       "             param_grid={'supportvector__C': array([0.1, 0.2, 0.3, 0.4, 0.5, 0.6, 0.7, 0.8])},\n",
       "             scoring='f1')"
      ]
     },
     "execution_count": 465,
     "metadata": {},
     "output_type": "execute_result"
    }
   ],
   "source": [
    "cv_sv.fit(X_train, y_train)"
   ]
  },
  {
   "cell_type": "code",
   "execution_count": 466,
   "metadata": {},
   "outputs": [
    {
     "name": "stdout",
     "output_type": "stream",
     "text": [
      "{'supportvector__C': 0.8}\n"
     ]
    }
   ],
   "source": [
    "print(cv_sv.best_params_)"
   ]
  },
  {
   "cell_type": "markdown",
   "metadata": {},
   "source": [
    "### Scores : roc auc, classification report, confusion matrix"
   ]
  },
  {
   "cell_type": "code",
   "execution_count": 468,
   "metadata": {},
   "outputs": [
    {
     "name": "stdout",
     "output_type": "stream",
     "text": [
      "roc_auc_score\n",
      "0.7533950617283951\n",
      "classification report\n",
      "              precision    recall  f1-score   support\n",
      "\n",
      "           0       0.97      0.80      0.88       972\n",
      "           1       0.11      0.50      0.18        50\n",
      "\n",
      "    accuracy                           0.78      1022\n",
      "   macro avg       0.54      0.65      0.53      1022\n",
      "weighted avg       0.93      0.78      0.84      1022\n",
      "\n",
      "confusion matrix\n",
      "[[776 196]\n",
      " [ 25  25]]\n"
     ]
    }
   ],
   "source": [
    "y_pred_sv = cv_sv.predict(X_test)\n",
    "\n",
    "y_prob_sv = cv_sv.predict_proba(X_test)\n",
    "\n",
    "\n",
    "# New from the course of fraud detection\n",
    "print(\"roc_auc_score\")\n",
    "print(roc_auc_score(y_test, y_prob_sv[:,1]))\n",
    "\n",
    "print(\"classification report\")\n",
    "print(classification_report(y_test, y_pred_sv))\n",
    "\n",
    "print(\"confusion matrix\")\n",
    "print(confusion_matrix(y_test, y_pred_sv))"
   ]
  },
  {
   "cell_type": "markdown",
   "metadata": {},
   "source": [
    "![green-divider](https://user-images.githubusercontent.com/7065401/52071924-c003ad80-2562-11e9-8297-1c6595f8a7ff.png)"
   ]
  },
  {
   "cell_type": "markdown",
   "metadata": {},
   "source": [
    "## Voting Classifier - ensemble methods"
   ]
  },
  {
   "cell_type": "code",
   "execution_count": 407,
   "metadata": {},
   "outputs": [
    {
     "data": {
      "text/plain": [
       "VotingClassifier(estimators=[('lr',\n",
       "                              LogisticRegression(C=80,\n",
       "                                                 class_weight={0: 0.065,\n",
       "                                                               1: 0.9},\n",
       "                                                 max_iter=10000, random_state=5,\n",
       "                                                 solver='liblinear')),\n",
       "                             ('rf',\n",
       "                              RandomForestClassifier(class_weight={0: 1, 1: 12},\n",
       "                                                     criterion='entropy',\n",
       "                                                     max_features=1,\n",
       "                                                     n_estimators=1000,\n",
       "                                                     random_state=5))],\n",
       "                 voting='soft', weights=[4, 1])"
      ]
     },
     "execution_count": 407,
     "metadata": {},
     "output_type": "execute_result"
    }
   ],
   "source": [
    "from sklearn.ensemble import VotingClassifier\n",
    "\n",
    "clf1 = LogisticRegression(random_state=5,\n",
    "                          C=80,\n",
    "                          solver='liblinear',\n",
    "                          class_weight={0: 0.065, 1: 0.9},\n",
    "                          max_iter=10000\n",
    "                         )\n",
    "\n",
    "clf2 = RandomForestClassifier(random_state=5,\n",
    "                             criterion='entropy',\n",
    "                             max_depth=None,\n",
    "                              max_features=1,\n",
    "                              min_samples_leaf=1,\n",
    "                              min_samples_split=2,\n",
    "                              n_estimators=1000,\n",
    "                              class_weight={0:1, 1:12}\n",
    "                             ) \n",
    "\n",
    "ensemble_model = VotingClassifier(estimators=[('lr', clf1), \n",
    "                                              ('rf', clf2)],\n",
    "                                              \n",
    "                                  voting='soft')\n",
    "\n",
    "# importing from before\n",
    "steps_ens = [('Scaling', StandardScaler()), ('ensemble', ensemble_model)]\n",
    "\n",
    "pipeline_ensemble = Pipeline(steps_ens)\n",
    "\n",
    "pipeline_ensemble.fit(X_train, y_train) \n",
    "\n",
    "\n",
    "ensemble_pred = pipeline_ensemble.predict(X_test) \n",
    "ensemble_prob = pipeline_ensemble.predict_proba(X_test) \n",
    "\n",
    "VotingClassifier(estimators=[('lr', clf1), \n",
    "                             ('rf', clf2)], voting='soft', weights=[4, 1], flatten_transform=True)\n"
   ]
  },
  {
   "cell_type": "code",
   "execution_count": 483,
   "metadata": {},
   "outputs": [
    {
     "name": "stdout",
     "output_type": "stream",
     "text": [
      "roc_auc_score\n",
      "0.7808847736625515\n",
      "classification report\n",
      "              precision    recall  f1-score   support\n",
      "\n",
      "           0       0.99      0.69      0.81       972\n",
      "           1       0.12      0.82      0.21        50\n",
      "\n",
      "    accuracy                           0.69      1022\n",
      "   macro avg       0.55      0.75      0.51      1022\n",
      "weighted avg       0.94      0.69      0.78      1022\n",
      "\n",
      "confusion matric\n",
      "[[669 303]\n",
      " [  9  41]]\n"
     ]
    }
   ],
   "source": [
    "# from fraud detection\n",
    "\n",
    "print(\"roc_auc_score\")\n",
    "print(roc_auc_score(y_test, ensemble_prob[:,1]))\n",
    "\n",
    "print(\"classification report\")\n",
    "print(classification_report(y_test, ensemble_pred))\n",
    "\n",
    "print(\"confusion matric\")\n",
    "print(confusion_matrix(y_test, ensemble_pred))"
   ]
  },
  {
   "cell_type": "code",
   "execution_count": null,
   "metadata": {},
   "outputs": [],
   "source": []
  },
  {
   "cell_type": "code",
   "execution_count": null,
   "metadata": {},
   "outputs": [],
   "source": []
  },
  {
   "cell_type": "markdown",
   "metadata": {},
   "source": [
    "![green-divider](https://user-images.githubusercontent.com/7065401/52071924-c003ad80-2562-11e9-8297-1c6595f8a7ff.png)"
   ]
  },
  {
   "cell_type": "code",
   "execution_count": null,
   "metadata": {},
   "outputs": [],
   "source": []
  },
  {
   "cell_type": "markdown",
   "metadata": {},
   "source": [
    "### Comparison of all models"
   ]
  },
  {
   "cell_type": "code",
   "execution_count": 482,
   "metadata": {
    "jupyter": {
     "source_hidden": true
    }
   },
   "outputs": [
    {
     "name": "stdout",
     "output_type": "stream",
     "text": [
      "\n",
      "Logistic Regression\n",
      "[[321 651]\n",
      " [  0  50]]\n",
      "f1_score\n",
      "0.13315579227696403\n",
      "roc_auc_score\n",
      "0.8366049382716049\n",
      "\n",
      "Random Forest\n",
      "[[924  48]\n",
      " [ 40  10]]\n",
      "f1_score\n",
      "0.1851851851851852\n",
      "roc_auc_score\n",
      "0.7440843621399177\n",
      "\n",
      "Decision Tree\n",
      "[[877  95]\n",
      " [ 39  11]]\n",
      "f1_score\n",
      "0.14102564102564102\n",
      "roc_auc_score\n",
      "0.5611316872427984\n",
      "\n",
      "SVC\n",
      "[[776 196]\n",
      " [ 25  25]]\n",
      "f1_score\n",
      "0.18450184501845018\n",
      "roc_auc_score\n",
      "0.7533950617283951\n",
      "\n",
      "Voting Clasifier - LR + RF\n",
      "[[669 303]\n",
      " [  9  41]]\n",
      "f1_score\n",
      "0.20812182741116753\n",
      "roc_auc_score\n",
      "0.7808847736625515\n"
     ]
    }
   ],
   "source": [
    "print(\"\\nLogistic Regression\")\n",
    "print(confusion_matrix(y_test, y_pred_logreg))\n",
    "print(\"f1_score\")\n",
    "print(f1_score(y_test, y_pred_logreg))\n",
    "print(\"roc_auc_score\")\n",
    "print(roc_auc_score(y_test, y_prob_logreg[:,1]))\n",
    "\n",
    "print(\"\\nRandom Forest\")\n",
    "print(confusion_matrix(y_test, y_pred_rf))\n",
    "print(\"f1_score\")\n",
    "print(f1_score(y_test, y_pred_rf))\n",
    "print(\"roc_auc_score\")\n",
    "print(roc_auc_score(y_test, y_prob_rf[:,1]))\n",
    "\n",
    "print(\"\\nDecision Tree\")\n",
    "print(confusion_matrix(y_test, y_pred_dt))\n",
    "print(\"f1_score\")\n",
    "print(f1_score(y_test, y_pred_dt))\n",
    "print(\"roc_auc_score\")\n",
    "print(roc_auc_score(y_test, y_prob_dt[:,1]))\n",
    "\n",
    "print(\"\\nSVC\")\n",
    "print(confusion_matrix(y_test, y_pred_sv))\n",
    "print(\"f1_score\")\n",
    "print(f1_score(y_test, y_pred_sv))\n",
    "print(\"roc_auc_score\")\n",
    "print(roc_auc_score(y_test, y_prob_sv[:,1]))\n",
    "\n",
    "print(\"\\nVoting Clasifier - LR + RF\")\n",
    "print(confusion_matrix(y_test, ensemble_pred))\n",
    "print(\"f1_score\")\n",
    "print(f1_score(y_test, ensemble_pred))\n",
    "print(\"roc_auc_score\")\n",
    "print(roc_auc_score(y_test, ensemble_prob[:,1]))\n",
    "\n"
   ]
  },
  {
   "cell_type": "markdown",
   "metadata": {},
   "source": [
    "![green-divider](https://user-images.githubusercontent.com/7065401/52071924-c003ad80-2562-11e9-8297-1c6595f8a7ff.png)"
   ]
  },
  {
   "cell_type": "markdown",
   "metadata": {},
   "source": [
    "### Junaid's Comments:\n",
    "\n",
    "So to be explicit, the process would be:\n",
    "\n",
    "1. Split data into training, validation and test\n",
    "2. preprocess the data (all splits)\n",
    "3. If there is a class imbalance, perform up sampling or downsampling (usually via the SMOTE method) on the training data ONLY\n",
    "4. fit model on training data\n",
    "5. Perform hyper parameter tuning using the validation set as checks to see if model performance is improving - be careful to avoid overfitting\n",
    "6. Once you have a final model you’re happy with, compute its adequacy metrics on the test data set"
   ]
  },
  {
   "cell_type": "markdown",
   "metadata": {},
   "source": [
    "![green-divider](https://user-images.githubusercontent.com/7065401/52071924-c003ad80-2562-11e9-8297-1c6595f8a7ff.png)"
   ]
  }
 ],
 "metadata": {
  "kernelspec": {
   "display_name": "Python 3",
   "language": "python",
   "name": "python3"
  },
  "language_info": {
   "codemirror_mode": {
    "name": "ipython",
    "version": 3
   },
   "file_extension": ".py",
   "mimetype": "text/x-python",
   "name": "python",
   "nbconvert_exporter": "python",
   "pygments_lexer": "ipython3",
   "version": "3.8.3"
  }
 },
 "nbformat": 4,
 "nbformat_minor": 4
}
